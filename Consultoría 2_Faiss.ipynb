{
 "cells": [
  {
   "cell_type": "code",
   "execution_count": 1,
   "id": "cfcbee5a-99a1-4b66-b6b8-bdef301707ea",
   "metadata": {},
   "outputs": [],
   "source": [
    "# !pip install wordcloud\n",
    "# !pip install spacy\n",
    "# !pip install faiss-cpu"
   ]
  },
  {
   "cell_type": "code",
   "execution_count": 2,
   "id": "f569a131-f9bd-444b-87ee-e569303f95a1",
   "metadata": {},
   "outputs": [],
   "source": [
    "import pandas as pd, re, unicodedata\n",
    "from collections import Counter\n",
    "import spacy, re\n",
    "from wordcloud import WordCloud\n",
    "import matplotlib.pyplot as plt\n",
    "import random\n",
    "import time, json, sys\n",
    "import re, unicodedata\n",
    "from concurrent.futures import ThreadPoolExecutor, as_completed\n",
    "from groq import Groq\n",
    "import unicodedata\n",
    "import faiss\n",
    "import numpy as np\n",
    "from sentence_transformers import SentenceTransformer\n",
    "import pandas as pd\n",
    "from typing import Sequence, Tuple, List\n",
    "\n",
    "from dotenv import load_dotenv\n",
    "import os\n",
    "\n",
    "load_dotenv()\n",
    "api1 = os.getenv('llama3_70b_8192')\n",
    "api2 = os.getenv('gemma2_9b_it')\n",
    "api3 = os.getenv('llama_instant')\n",
    "api4 = os.getenv('llama3_8b')"
   ]
  },
  {
   "cell_type": "code",
   "execution_count": 3,
   "id": "5598aee5-7f15-490d-9e5b-5a59de32abbb",
   "metadata": {},
   "outputs": [],
   "source": [
    "legal_data_path = r\".\\Datos\\sentencias_pasadas.xlsx\""
   ]
  },
  {
   "cell_type": "code",
   "execution_count": 4,
   "id": "a8fa0042-3895-4182-8d46-d98e72dbe494",
   "metadata": {},
   "outputs": [],
   "source": [
    "legal_data = pd.read_excel(legal_data_path).drop(columns='Tipo')"
   ]
  },
  {
   "cell_type": "code",
   "execution_count": 5,
   "id": "aec224e9-3ded-40f8-9860-1b5b8874809f",
   "metadata": {
    "scrolled": true
   },
   "outputs": [
    {
     "data": {
      "text/plain": [
       "(329, 7)"
      ]
     },
     "execution_count": 5,
     "metadata": {},
     "output_type": "execute_result"
    }
   ],
   "source": [
    "legal_data.shape"
   ]
  },
  {
   "cell_type": "code",
   "execution_count": 6,
   "id": "ac469ca3-38e5-4aea-b914-25bc8510146a",
   "metadata": {
    "scrolled": true
   },
   "outputs": [
    {
     "data": {
      "text/html": [
       "<div>\n",
       "<style scoped>\n",
       "    .dataframe tbody tr th:only-of-type {\n",
       "        vertical-align: middle;\n",
       "    }\n",
       "\n",
       "    .dataframe tbody tr th {\n",
       "        vertical-align: top;\n",
       "    }\n",
       "\n",
       "    .dataframe thead th {\n",
       "        text-align: right;\n",
       "    }\n",
       "</style>\n",
       "<table border=\"1\" class=\"dataframe\">\n",
       "  <thead>\n",
       "    <tr style=\"text-align: right;\">\n",
       "      <th></th>\n",
       "      <th>#</th>\n",
       "      <th>Relevancia</th>\n",
       "      <th>Providencia</th>\n",
       "      <th>Fecha Sentencia</th>\n",
       "      <th>Tema - subtema</th>\n",
       "      <th>resuelve</th>\n",
       "      <th>sintesis</th>\n",
       "    </tr>\n",
       "  </thead>\n",
       "  <tbody>\n",
       "    <tr>\n",
       "      <th>0</th>\n",
       "      <td>1</td>\n",
       "      <td>966965.0</td>\n",
       "      <td>T-185/22</td>\n",
       "      <td>2022-05-31</td>\n",
       "      <td>NaN</td>\n",
       "      <td>en nombre del pueblo y por mandato de la Const...</td>\n",
       "      <td>En este caso se formula la acción de tutela en...</td>\n",
       "    </tr>\n",
       "    <tr>\n",
       "      <th>1</th>\n",
       "      <td>3</td>\n",
       "      <td>963168.0</td>\n",
       "      <td>T-356/21</td>\n",
       "      <td>2021-10-15</td>\n",
       "      <td>ACCIÓN DE TUTELA PARA PROTEGER EL DERECHO A LA...</td>\n",
       "      <td>en nombre del pueblo y por mandato de la Const...</td>\n",
       "      <td>El peticionario considera que los accionantes ...</td>\n",
       "    </tr>\n",
       "    <tr>\n",
       "      <th>2</th>\n",
       "      <td>5</td>\n",
       "      <td>956201.0</td>\n",
       "      <td>T-351/22</td>\n",
       "      <td>2022-10-07</td>\n",
       "      <td>ACCIÓN DE TUTELA PARA PROTEGER EL DERECHO A LA...</td>\n",
       "      <td>administrando justicia en nombre del Pueblo, y...</td>\n",
       "      <td>El periodista accionante acusa al abogado acci...</td>\n",
       "    </tr>\n",
       "  </tbody>\n",
       "</table>\n",
       "</div>"
      ],
      "text/plain": [
       "   #  Relevancia Providencia Fecha Sentencia  \\\n",
       "0  1    966965.0    T-185/22      2022-05-31   \n",
       "1  3    963168.0    T-356/21      2021-10-15   \n",
       "2  5    956201.0    T-351/22      2022-10-07   \n",
       "\n",
       "                                      Tema - subtema  \\\n",
       "0                                                NaN   \n",
       "1  ACCIÓN DE TUTELA PARA PROTEGER EL DERECHO A LA...   \n",
       "2  ACCIÓN DE TUTELA PARA PROTEGER EL DERECHO A LA...   \n",
       "\n",
       "                                            resuelve  \\\n",
       "0  en nombre del pueblo y por mandato de la Const...   \n",
       "1  en nombre del pueblo y por mandato de la Const...   \n",
       "2  administrando justicia en nombre del Pueblo, y...   \n",
       "\n",
       "                                            sintesis  \n",
       "0  En este caso se formula la acción de tutela en...  \n",
       "1  El peticionario considera que los accionantes ...  \n",
       "2  El periodista accionante acusa al abogado acci...  "
      ]
     },
     "execution_count": 6,
     "metadata": {},
     "output_type": "execute_result"
    }
   ],
   "source": [
    "legal_data.head(3)"
   ]
  },
  {
   "cell_type": "code",
   "execution_count": 7,
   "id": "3e7e2f50-c59d-4e51-ac3c-5f7bc051055c",
   "metadata": {},
   "outputs": [],
   "source": [
    "#https://medium.com/@devbytes/similarity-search-with-faiss-a-practical-guide-to-efficient-indexing-and-retrieval-e99dd0e55e8c"
   ]
  },
  {
   "cell_type": "code",
   "execution_count": 8,
   "id": "28bcf4d1-3740-43e9-9be1-63b42b59c976",
   "metadata": {},
   "outputs": [],
   "source": [
    "def crear_indice_faiss(\n",
    "    textos: List[str],\n",
    "    model_name: str = 'paraphrase-multilingual-mpnet-base-v2'\n",
    ") -> Tuple[faiss.Index, SentenceTransformer]:\n",
    "\n",
    "    print(\"Cargando modelo y creando índice Faiss... (esto puede tardar)\")\n",
    "    model = SentenceTransformer(model_name)\n",
    "    embeddings = model.encode(textos, show_progress_bar=True).astype('float32')\n",
    "\n",
    "    # Normalizar vectores es CRUCIAL para que el producto punto sea igual a la similitud coseno\n",
    "    faiss.normalize_L2(embeddings)\n",
    "    \n",
    "    index = faiss.IndexFlatIP(embeddings.shape[1])\n",
    "    index.add(embeddings)\n",
    "    \n",
    "    print(\"¡Índice creado exitosamente!\")\n",
    "    return index, model\n",
    "\n",
    "def buscar_por_tema(\n",
    "    df_original: pd.DataFrame,\n",
    "    topicos: Sequence[str],\n",
    "    indice_faiss: faiss.Index,\n",
    "    modelo: SentenceTransformer,\n",
    "    umbral: float = 0.5\n",
    ") -> pd.DataFrame:\n",
    "    \"\"\"Busca tópicos en el índice y filtra el DataFrame original.\"\"\"\n",
    "    \n",
    "    # Vectorizar solo los tópicos (muy rápido)\n",
    "    topic_embeddings = modelo.encode(topicos).astype('float32')\n",
    "    faiss.normalize_L2(topic_embeddings)\n",
    "\n",
    "    # Buscar en el índice para obtener puntajes de todas las filas\n",
    "    scores, indices = indice_faiss.search(topic_embeddings, k=indice_faiss.ntotal)\n",
    "    \n",
    "    # Encontrar el mejor puntaje para cada fila a través de todos los tópicos\n",
    "    max_scores = np.zeros(indice_faiss.ntotal)\n",
    "    for i in range(len(topicos)):\n",
    "        np.maximum.at(max_scores, indices[i], scores[i])\n",
    "\n",
    "    # Filtrar, añadir el puntaje y devolver el resultado\n",
    "    df_resultado = df_original[max_scores >= umbral].copy()\n",
    "    df_resultado['similarity'] = max_scores[max_scores >= umbral]\n",
    "    \n",
    "    return df_resultado.sort_values(by='similarity', ascending=False).reset_index(drop=True)"
   ]
  },
  {
   "cell_type": "code",
   "execution_count": 9,
   "id": "a3fb7769-6db2-4cb6-a236-913daadbafef",
   "metadata": {},
   "outputs": [],
   "source": [
    "MODEL_KEYS = [\n",
    "    (\"llama3-70b-8192\",      api1),\n",
    "    (\"gemma2-9b-it\",         api2),\n",
    "    (\"llama-3.1-8b-instant\", api3),\n",
    "    (\"llama3-8b-8192\",       api4),\n",
    "]\n",
    "\n",
    "\n",
    "MODELS  = [m for m, _ in MODEL_KEYS]\n",
    "CLIENTS = [Groq(api_key=k) for _, k in MODEL_KEYS]\n",
    "CALL_INTERVAL = 60 / 29.5\n",
    "\n",
    "def worker(task):\n",
    "    idx, content, column = task\n",
    "    base_slot = idx % len(MODELS)\n",
    "\n",
    "    prompt = (\n",
    "        \"En español, en una sola oración neutra (≤30 palabras) resume quién pidió qué, el resultado y por qué, tal como aparece en el texto.\"\n",
    "        \"Usa terminología legal, pero simple sin ser tan sofisticada, pero precisa\"\n",
    "        \"Devuelve solo un JSON válido: {\\\"answer\\\":\\\"...\\\"}. \"\n",
    "        f\"Texto: {content}\"\n",
    "    )\n",
    "\n",
    "    for attempt in range(3):\n",
    "        slot = (base_slot + attempt) % len(MODELS)\n",
    "        model, client = MODELS[slot], CLIENTS[slot]\n",
    "\n",
    "        time.sleep(CALL_INTERVAL)\n",
    "        try:\n",
    "            resp = client.chat.completions.create(\n",
    "                model=model,\n",
    "                messages=[{\"role\": \"user\", \"content\": prompt}],\n",
    "                max_completion_tokens=100,\n",
    "                response_format={\"type\": \"json_object\"},\n",
    "            )\n",
    "            result_json = json.loads(resp.choices[0].message.content)\n",
    "            result = result_json.get(\"answer\", \"\")\n",
    "            print(f\"✔︎ Model{slot+1} row{idx+1} ({column}) (try{attempt+1})\", flush=True)\n",
    "            return idx, result\n",
    "        except Exception as e:\n",
    "            print(f\"✖︎ Model{slot+1} row{idx+1} ({column}) failed (try{attempt+1}): {e}\",\n",
    "                  file=sys.stderr, flush=True)\n",
    "\n",
    "    print(f\"⚠︎ Row{idx+1} ({column}) gave up after 3 tries\", file=sys.stderr, flush=True)\n",
    "    return idx, \"Failed\"\n",
    "\n",
    "def LLM_aumentation(df):\n",
    "    tasks = []\n",
    "    for idx, row in df.iterrows():\n",
    "        tasks.append((idx, row['resuelve'], \"Sentencia_LLM\"))\n",
    "        tasks.append((idx, row['sintesis'], \"De_qué_trata_LLM\"))\n",
    "\n",
    "    results_sentencia, results_sintesis = {}, {}\n",
    "\n",
    "    with ThreadPoolExecutor(len(MODELS)) as pool:\n",
    "        futures = {pool.submit(worker, task): task for task in tasks}\n",
    "        for fut in as_completed(futures):\n",
    "            idx, result = fut.result()\n",
    "            column = futures[fut][2]\n",
    "            if column == \"Sentencia_LLM\":\n",
    "                results_sentencia[idx] = result\n",
    "            else:\n",
    "                results_sintesis[idx] = result\n",
    "\n",
    "    df[\"Sentencia_LLM\"] = df.index.map(results_sentencia.get)\n",
    "    df[\"De_qué_trata_LLM\"] = df.index.map(results_sintesis.get)\n",
    "\n",
    "    return df"
   ]
  },
  {
   "cell_type": "code",
   "execution_count": 10,
   "id": "bc0e49f2-8200-494c-b4bd-547da4bc647d",
   "metadata": {},
   "outputs": [
    {
     "name": "stdout",
     "output_type": "stream",
     "text": [
      "Cargando modelo y creando índice Faiss... (esto puede tardar)\n"
     ]
    },
    {
     "data": {
      "application/vnd.jupyter.widget-view+json": {
       "model_id": "d756bb9077f64c729e96d00cefdc895b",
       "version_major": 2,
       "version_minor": 0
      },
      "text/plain": [
       "Batches:   0%|          | 0/11 [00:00<?, ?it/s]"
      ]
     },
     "metadata": {},
     "output_type": "display_data"
    },
    {
     "name": "stdout",
     "output_type": "stream",
     "text": [
      "¡Índice creado exitosamente!\n"
     ]
    }
   ],
   "source": [
    "columnas_a_buscar = [\"Tema - subtema\", \"resuelve\", \"sintesis\"]\n",
    "\n",
    "# Pre-procesamos el texto una sola vez\n",
    "textos_a_indexar = (\n",
    "    legal_data[columnas_a_buscar]\n",
    "    .fillna(\"\")\n",
    "    .astype(str)\n",
    "    .agg(\" \".join, axis=1)\n",
    "    .str.lower()\n",
    "    .tolist()\n",
    ")\n",
    "\n",
    "\n",
    "indice, modelo = crear_indice_faiss(textos_a_indexar)"
   ]
  },
  {
   "cell_type": "code",
   "execution_count": 11,
   "id": "2b76a1b1-1ec7-4c5d-a9f8-0afadad26654",
   "metadata": {},
   "outputs": [],
   "source": [
    "resultados = buscar_por_tema(legal_data, [\"red social\"], indice, modelo, 0.25)"
   ]
  },
  {
   "cell_type": "code",
   "execution_count": 12,
   "id": "046a91eb-d188-4708-a35f-927edd4f5c60",
   "metadata": {},
   "outputs": [
    {
     "data": {
      "text/plain": [
       "(44, 8)"
      ]
     },
     "execution_count": 12,
     "metadata": {},
     "output_type": "execute_result"
    }
   ],
   "source": [
    "resultados.shape"
   ]
  },
  {
   "cell_type": "code",
   "execution_count": 13,
   "id": "a196d86f-da14-4e7d-9258-ab3f3bc9f28a",
   "metadata": {},
   "outputs": [
    {
     "data": {
      "text/html": [
       "<div>\n",
       "<style scoped>\n",
       "    .dataframe tbody tr th:only-of-type {\n",
       "        vertical-align: middle;\n",
       "    }\n",
       "\n",
       "    .dataframe tbody tr th {\n",
       "        vertical-align: top;\n",
       "    }\n",
       "\n",
       "    .dataframe thead th {\n",
       "        text-align: right;\n",
       "    }\n",
       "</style>\n",
       "<table border=\"1\" class=\"dataframe\">\n",
       "  <thead>\n",
       "    <tr style=\"text-align: right;\">\n",
       "      <th></th>\n",
       "      <th>#</th>\n",
       "      <th>Relevancia</th>\n",
       "      <th>Providencia</th>\n",
       "      <th>Fecha Sentencia</th>\n",
       "      <th>Tema - subtema</th>\n",
       "      <th>resuelve</th>\n",
       "      <th>sintesis</th>\n",
       "      <th>similarity</th>\n",
       "    </tr>\n",
       "  </thead>\n",
       "  <tbody>\n",
       "    <tr>\n",
       "      <th>0</th>\n",
       "      <td>5</td>\n",
       "      <td>956201.0</td>\n",
       "      <td>T-351/22</td>\n",
       "      <td>2022-10-07</td>\n",
       "      <td>ACCIÓN DE TUTELA PARA PROTEGER EL DERECHO A LA...</td>\n",
       "      <td>administrando justicia en nombre del Pueblo, y...</td>\n",
       "      <td>El periodista accionante acusa al abogado acci...</td>\n",
       "      <td>0.374928</td>\n",
       "    </tr>\n",
       "    <tr>\n",
       "      <th>1</th>\n",
       "      <td>6</td>\n",
       "      <td>955889.0</td>\n",
       "      <td>T-246/21</td>\n",
       "      <td>2021-07-29</td>\n",
       "      <td>ACCION DE TUTELA PARA PROTEGER EL DERECHO A LA...</td>\n",
       "      <td>en nombre del pueblo y por mandato de la Const...</td>\n",
       "      <td>Se presenta la acción de tutela en contra de u...</td>\n",
       "      <td>0.352689</td>\n",
       "    </tr>\n",
       "    <tr>\n",
       "      <th>2</th>\n",
       "      <td>3</td>\n",
       "      <td>963168.0</td>\n",
       "      <td>T-356/21</td>\n",
       "      <td>2021-10-15</td>\n",
       "      <td>ACCIÓN DE TUTELA PARA PROTEGER EL DERECHO A LA...</td>\n",
       "      <td>en nombre del pueblo y por mandato de la Const...</td>\n",
       "      <td>El peticionario considera que los accionantes ...</td>\n",
       "      <td>0.343402</td>\n",
       "    </tr>\n",
       "  </tbody>\n",
       "</table>\n",
       "</div>"
      ],
      "text/plain": [
       "   #  Relevancia Providencia Fecha Sentencia  \\\n",
       "0  5    956201.0    T-351/22      2022-10-07   \n",
       "1  6    955889.0    T-246/21      2021-07-29   \n",
       "2  3    963168.0    T-356/21      2021-10-15   \n",
       "\n",
       "                                      Tema - subtema  \\\n",
       "0  ACCIÓN DE TUTELA PARA PROTEGER EL DERECHO A LA...   \n",
       "1  ACCION DE TUTELA PARA PROTEGER EL DERECHO A LA...   \n",
       "2  ACCIÓN DE TUTELA PARA PROTEGER EL DERECHO A LA...   \n",
       "\n",
       "                                            resuelve  \\\n",
       "0  administrando justicia en nombre del Pueblo, y...   \n",
       "1  en nombre del pueblo y por mandato de la Const...   \n",
       "2  en nombre del pueblo y por mandato de la Const...   \n",
       "\n",
       "                                            sintesis  similarity  \n",
       "0  El periodista accionante acusa al abogado acci...    0.374928  \n",
       "1  Se presenta la acción de tutela en contra de u...    0.352689  \n",
       "2  El peticionario considera que los accionantes ...    0.343402  "
      ]
     },
     "execution_count": 13,
     "metadata": {},
     "output_type": "execute_result"
    }
   ],
   "source": [
    "resultados.head(3)"
   ]
  },
  {
   "cell_type": "code",
   "execution_count": 14,
   "id": "022d5801-8819-454d-b93c-edd1a98b7a9a",
   "metadata": {},
   "outputs": [
    {
     "data": {
      "text/html": [
       "<div>\n",
       "<style scoped>\n",
       "    .dataframe tbody tr th:only-of-type {\n",
       "        vertical-align: middle;\n",
       "    }\n",
       "\n",
       "    .dataframe tbody tr th {\n",
       "        vertical-align: top;\n",
       "    }\n",
       "\n",
       "    .dataframe thead th {\n",
       "        text-align: right;\n",
       "    }\n",
       "</style>\n",
       "<table border=\"1\" class=\"dataframe\">\n",
       "  <thead>\n",
       "    <tr style=\"text-align: right;\">\n",
       "      <th></th>\n",
       "      <th>#</th>\n",
       "      <th>Relevancia</th>\n",
       "      <th>Providencia</th>\n",
       "      <th>Fecha Sentencia</th>\n",
       "      <th>Tema - subtema</th>\n",
       "      <th>resuelve</th>\n",
       "      <th>sintesis</th>\n",
       "      <th>similarity</th>\n",
       "    </tr>\n",
       "  </thead>\n",
       "  <tbody>\n",
       "    <tr>\n",
       "      <th>43</th>\n",
       "      <td>314</td>\n",
       "      <td>405359.0</td>\n",
       "      <td>A. 486/20</td>\n",
       "      <td>2020-12-15</td>\n",
       "      <td>ESTADO DE COSAS INCONSTITUCIONAL EN MATERIA PE...</td>\n",
       "      <td>RESUELVE: PRIMERO.- ORDENAR al Instituto Nacio...</td>\n",
       "      <td>La Sala Especial de Seguimiento al Estado de C...</td>\n",
       "      <td>0.250719</td>\n",
       "    </tr>\n",
       "    <tr>\n",
       "      <th>42</th>\n",
       "      <td>102</td>\n",
       "      <td>783032.0</td>\n",
       "      <td>T-314/24</td>\n",
       "      <td>2024-07-31</td>\n",
       "      <td>NaN</td>\n",
       "      <td>RESUELVE PRIMERO. REVOCAR la Sentencia del 1Â°...</td>\n",
       "      <td>El actor adujo que sus derechos fundamentales ...</td>\n",
       "      <td>0.253419</td>\n",
       "    </tr>\n",
       "    <tr>\n",
       "      <th>41</th>\n",
       "      <td>25</td>\n",
       "      <td>927043.0</td>\n",
       "      <td>T-230/20</td>\n",
       "      <td>2020-07-07</td>\n",
       "      <td>ACCION DE TUTELA EN MATERIA DE DERECHO DE PETI...</td>\n",
       "      <td>en nombre del pueblo y por mandato de la Const...</td>\n",
       "      <td>El actor considera que la Empresa de Acueducto...</td>\n",
       "      <td>0.253775</td>\n",
       "    </tr>\n",
       "  </tbody>\n",
       "</table>\n",
       "</div>"
      ],
      "text/plain": [
       "      #  Relevancia Providencia Fecha Sentencia  \\\n",
       "43  314    405359.0   A. 486/20      2020-12-15   \n",
       "42  102    783032.0    T-314/24      2024-07-31   \n",
       "41   25    927043.0    T-230/20      2020-07-07   \n",
       "\n",
       "                                       Tema - subtema  \\\n",
       "43  ESTADO DE COSAS INCONSTITUCIONAL EN MATERIA PE...   \n",
       "42                                                NaN   \n",
       "41  ACCION DE TUTELA EN MATERIA DE DERECHO DE PETI...   \n",
       "\n",
       "                                             resuelve  \\\n",
       "43  RESUELVE: PRIMERO.- ORDENAR al Instituto Nacio...   \n",
       "42  RESUELVE PRIMERO. REVOCAR la Sentencia del 1Â°...   \n",
       "41  en nombre del pueblo y por mandato de la Const...   \n",
       "\n",
       "                                             sintesis  similarity  \n",
       "43  La Sala Especial de Seguimiento al Estado de C...    0.250719  \n",
       "42  El actor adujo que sus derechos fundamentales ...    0.253419  \n",
       "41  El actor considera que la Empresa de Acueducto...    0.253775  "
      ]
     },
     "execution_count": 14,
     "metadata": {},
     "output_type": "execute_result"
    }
   ],
   "source": [
    "resultados.sort_values(\"similarity\", ascending=True).head(3)"
   ]
  },
  {
   "cell_type": "code",
   "execution_count": 15,
   "id": "3814f575-c5e3-4d3f-aa2f-c3f7b3f1f19d",
   "metadata": {},
   "outputs": [
    {
     "data": {
      "text/plain": [
       "'La Sala Especial de Seguimiento al Estado de Cosas Inconstitucional (ECI) en materia penitenciaria y carcelaria declarado en las Sentencias T-388/13 y T-762/15, haciendo uso de su competencia para adoptar medidas de protección de derechos fundamentales en favor de las personas privadas de la libertad, en especial en el contexto de la pandemia actual, ordenó al INPEC diseñar e implementar una categorización de establecimientos de reclusión del orden nacional que se encuentren en riesgo de contagio o con casos activos por COVID 19, en la que se identifiquen dichos lugares según un nivel de seguimiento preventivo, inicial, medio y alto, acorde con los criterios expuestos en la presente providencia, los cuales tienen relación directa con la situación de vulnerabilidad o afectación de dicha población a causa de la emergencia sanitaria. Así mismo, precisó los lineamientos a seguir para dar cumplimiento a la disposición anterior e impartió otra serie de órdenes a varias entidades gubernamentales y entes de control.'"
      ]
     },
     "execution_count": 15,
     "metadata": {},
     "output_type": "execute_result"
    }
   ],
   "source": [
    "resultados.sort_values(\"similarity\", ascending=True)[\"sintesis\"].iat[0]"
   ]
  },
  {
   "cell_type": "code",
   "execution_count": 16,
   "id": "24fd065f-a546-4591-aac1-7de4b22bc58f",
   "metadata": {},
   "outputs": [
    {
     "name": "stdout",
     "output_type": "stream",
     "text": [
      "19 15 37\n"
     ]
    }
   ],
   "source": [
    "a, b, c = random.sample(range(len(resultados)), 3)\n",
    "print(a,b,c)"
   ]
  },
  {
   "cell_type": "code",
   "execution_count": 17,
   "id": "d628208c-7bd5-4123-8d84-bf30253c6016",
   "metadata": {},
   "outputs": [
    {
     "data": {
      "text/html": [
       "<div>\n",
       "<style scoped>\n",
       "    .dataframe tbody tr th:only-of-type {\n",
       "        vertical-align: middle;\n",
       "    }\n",
       "\n",
       "    .dataframe tbody tr th {\n",
       "        vertical-align: top;\n",
       "    }\n",
       "\n",
       "    .dataframe thead th {\n",
       "        text-align: right;\n",
       "    }\n",
       "</style>\n",
       "<table border=\"1\" class=\"dataframe\">\n",
       "  <thead>\n",
       "    <tr style=\"text-align: right;\">\n",
       "      <th></th>\n",
       "      <th>#</th>\n",
       "      <th>Relevancia</th>\n",
       "      <th>Providencia</th>\n",
       "      <th>Fecha Sentencia</th>\n",
       "      <th>Tema - subtema</th>\n",
       "      <th>resuelve</th>\n",
       "      <th>sintesis</th>\n",
       "      <th>similarity</th>\n",
       "    </tr>\n",
       "  </thead>\n",
       "  <tbody>\n",
       "    <tr>\n",
       "      <th>0</th>\n",
       "      <td>26</td>\n",
       "      <td>924622.0</td>\n",
       "      <td>T-289/23</td>\n",
       "      <td>2023-08-02</td>\n",
       "      <td>DERECHO A LA PROPIA IMAGEN Y A LA INTIMIDAD-Vu...</td>\n",
       "      <td>administrando justicia en nombre del pueblo, y...</td>\n",
       "      <td>La accionante actúa como Representante Legal d...</td>\n",
       "      <td>0.285732</td>\n",
       "    </tr>\n",
       "    <tr>\n",
       "      <th>1</th>\n",
       "      <td>455</td>\n",
       "      <td>186479.0</td>\n",
       "      <td>C-197/20</td>\n",
       "      <td>2020-06-24</td>\n",
       "      <td>CALAMIDAD PUBLICA-Definición CONSTITUCION POLI...</td>\n",
       "      <td>en nombre del pueblo y por mandato de la Const...</td>\n",
       "      <td>Revisión constitucional automática del Decreto...</td>\n",
       "      <td>0.288448</td>\n",
       "    </tr>\n",
       "    <tr>\n",
       "      <th>2</th>\n",
       "      <td>16</td>\n",
       "      <td>937673.0</td>\n",
       "      <td>T-446/20</td>\n",
       "      <td>2020-10-15</td>\n",
       "      <td>ACCION DE TUTELA EN MATERIA DE LIBERTAD DE EXP...</td>\n",
       "      <td>administrando justicia en nombre del pueblo, y...</td>\n",
       "      <td>En dos acciones de tutela formuladas de manera...</td>\n",
       "      <td>0.259881</td>\n",
       "    </tr>\n",
       "  </tbody>\n",
       "</table>\n",
       "</div>"
      ],
      "text/plain": [
       "     #  Relevancia Providencia Fecha Sentencia  \\\n",
       "0   26    924622.0    T-289/23      2023-08-02   \n",
       "1  455    186479.0    C-197/20      2020-06-24   \n",
       "2   16    937673.0    T-446/20      2020-10-15   \n",
       "\n",
       "                                      Tema - subtema  \\\n",
       "0  DERECHO A LA PROPIA IMAGEN Y A LA INTIMIDAD-Vu...   \n",
       "1  CALAMIDAD PUBLICA-Definición CONSTITUCION POLI...   \n",
       "2  ACCION DE TUTELA EN MATERIA DE LIBERTAD DE EXP...   \n",
       "\n",
       "                                            resuelve  \\\n",
       "0  administrando justicia en nombre del pueblo, y...   \n",
       "1  en nombre del pueblo y por mandato de la Const...   \n",
       "2  administrando justicia en nombre del pueblo, y...   \n",
       "\n",
       "                                            sintesis  similarity  \n",
       "0  La accionante actúa como Representante Legal d...    0.285732  \n",
       "1  Revisión constitucional automática del Decreto...    0.288448  \n",
       "2  En dos acciones de tutela formuladas de manera...    0.259881  "
      ]
     },
     "execution_count": 17,
     "metadata": {},
     "output_type": "execute_result"
    }
   ],
   "source": [
    "tres_demandas = resultados.loc[[a, b, c]].reset_index(drop=True)\n",
    "tres_demandas"
   ]
  },
  {
   "cell_type": "code",
   "execution_count": 18,
   "id": "75310be6-9e58-4a11-803f-5287c11e8033",
   "metadata": {},
   "outputs": [
    {
     "name": "stdout",
     "output_type": "stream",
     "text": [
      "✔︎ Model2 row2 (De_qué_trata_LLM) (try1)\n",
      "✔︎ Model2 row2 (Sentencia_LLM) (try1)\n",
      "✔︎ Model1 row1 (Sentencia_LLM) (try1)\n",
      "✔︎ Model1 row1 (De_qué_trata_LLM) (try1)\n",
      "✔︎ Model3 row3 (Sentencia_LLM) (try1)\n",
      "✔︎ Model3 row3 (De_qué_trata_LLM) (try1)\n"
     ]
    }
   ],
   "source": [
    "tres_demandas_con_LLMs = LLM_aumentation(tres_demandas)\n",
    "#tres_demandas_con_LLMs.to_csv(\"legal_cases_with_llm.csv\", encoding=\"utf-8-sig\")"
   ]
  },
  {
   "cell_type": "code",
   "execution_count": 19,
   "id": "e5e0c8ae-43e6-4403-8384-4da104a742c2",
   "metadata": {},
   "outputs": [
    {
     "data": {
      "text/html": [
       "<div>\n",
       "<style scoped>\n",
       "    .dataframe tbody tr th:only-of-type {\n",
       "        vertical-align: middle;\n",
       "    }\n",
       "\n",
       "    .dataframe tbody tr th {\n",
       "        vertical-align: top;\n",
       "    }\n",
       "\n",
       "    .dataframe thead th {\n",
       "        text-align: right;\n",
       "    }\n",
       "</style>\n",
       "<table border=\"1\" class=\"dataframe\">\n",
       "  <thead>\n",
       "    <tr style=\"text-align: right;\">\n",
       "      <th></th>\n",
       "      <th>#</th>\n",
       "      <th>Relevancia</th>\n",
       "      <th>Providencia</th>\n",
       "      <th>Fecha Sentencia</th>\n",
       "      <th>Tema - subtema</th>\n",
       "      <th>resuelve</th>\n",
       "      <th>sintesis</th>\n",
       "      <th>similarity</th>\n",
       "      <th>Sentencia_LLM</th>\n",
       "      <th>De_qué_trata_LLM</th>\n",
       "    </tr>\n",
       "  </thead>\n",
       "  <tbody>\n",
       "    <tr>\n",
       "      <th>0</th>\n",
       "      <td>26</td>\n",
       "      <td>924622.0</td>\n",
       "      <td>T-289/23</td>\n",
       "      <td>2023-08-02</td>\n",
       "      <td>DERECHO A LA PROPIA IMAGEN Y A LA INTIMIDAD-Vu...</td>\n",
       "      <td>administrando justicia en nombre del pueblo, y...</td>\n",
       "      <td>La accionante actúa como Representante Legal d...</td>\n",
       "      <td>0.285732</td>\n",
       "      <td>La Sala confirmó la decisión de instancia que ...</td>\n",
       "      <td>La Fundación Dignidad Trans, representada por ...</td>\n",
       "    </tr>\n",
       "    <tr>\n",
       "      <th>1</th>\n",
       "      <td>455</td>\n",
       "      <td>186479.0</td>\n",
       "      <td>C-197/20</td>\n",
       "      <td>2020-06-24</td>\n",
       "      <td>CALAMIDAD PUBLICA-Definición CONSTITUCION POLI...</td>\n",
       "      <td>en nombre del pueblo y por mandato de la Const...</td>\n",
       "      <td>Revisión constitucional automática del Decreto...</td>\n",
       "      <td>0.288448</td>\n",
       "      <td>Un tribunal resolvía declarar exequible el Dec...</td>\n",
       "      <td>La Corte declaró ejecutable el Decreto Legisla...</td>\n",
       "    </tr>\n",
       "    <tr>\n",
       "      <th>2</th>\n",
       "      <td>16</td>\n",
       "      <td>937673.0</td>\n",
       "      <td>T-446/20</td>\n",
       "      <td>2020-10-15</td>\n",
       "      <td>ACCION DE TUTELA EN MATERIA DE LIBERTAD DE EXP...</td>\n",
       "      <td>administrando justicia en nombre del pueblo, y...</td>\n",
       "      <td>En dos acciones de tutela formuladas de manera...</td>\n",
       "      <td>0.259881</td>\n",
       "      <td>El Tribunal Supremo confirmó la decisión del j...</td>\n",
       "      <td>Las peticionarias solicitaron amparo contra el...</td>\n",
       "    </tr>\n",
       "  </tbody>\n",
       "</table>\n",
       "</div>"
      ],
      "text/plain": [
       "     #  Relevancia Providencia Fecha Sentencia  \\\n",
       "0   26    924622.0    T-289/23      2023-08-02   \n",
       "1  455    186479.0    C-197/20      2020-06-24   \n",
       "2   16    937673.0    T-446/20      2020-10-15   \n",
       "\n",
       "                                      Tema - subtema  \\\n",
       "0  DERECHO A LA PROPIA IMAGEN Y A LA INTIMIDAD-Vu...   \n",
       "1  CALAMIDAD PUBLICA-Definición CONSTITUCION POLI...   \n",
       "2  ACCION DE TUTELA EN MATERIA DE LIBERTAD DE EXP...   \n",
       "\n",
       "                                            resuelve  \\\n",
       "0  administrando justicia en nombre del pueblo, y...   \n",
       "1  en nombre del pueblo y por mandato de la Const...   \n",
       "2  administrando justicia en nombre del pueblo, y...   \n",
       "\n",
       "                                            sintesis  similarity  \\\n",
       "0  La accionante actúa como Representante Legal d...    0.285732   \n",
       "1  Revisión constitucional automática del Decreto...    0.288448   \n",
       "2  En dos acciones de tutela formuladas de manera...    0.259881   \n",
       "\n",
       "                                       Sentencia_LLM  \\\n",
       "0  La Sala confirmó la decisión de instancia que ...   \n",
       "1  Un tribunal resolvía declarar exequible el Dec...   \n",
       "2  El Tribunal Supremo confirmó la decisión del j...   \n",
       "\n",
       "                                    De_qué_trata_LLM  \n",
       "0  La Fundación Dignidad Trans, representada por ...  \n",
       "1  La Corte declaró ejecutable el Decreto Legisla...  \n",
       "2  Las peticionarias solicitaron amparo contra el...  "
      ]
     },
     "execution_count": 19,
     "metadata": {},
     "output_type": "execute_result"
    }
   ],
   "source": [
    "tres_demandas_con_LLMs"
   ]
  },
  {
   "cell_type": "code",
   "execution_count": 20,
   "id": "1efcb0c3-d6ed-43b7-95ee-f5db9948a66e",
   "metadata": {},
   "outputs": [
    {
     "data": {
      "text/plain": [
       "'La Sala confirmó la decisión de instancia que declaró improcedente la acción respecto de varias personas, tuteló derechos fundamentales de una menor y ordenó disculpas públicas o privadas a los accionados.'"
      ]
     },
     "execution_count": 20,
     "metadata": {},
     "output_type": "execute_result"
    }
   ],
   "source": [
    "tres_demandas_con_LLMs['Sentencia_LLM'].iloc[0]"
   ]
  },
  {
   "cell_type": "code",
   "execution_count": 21,
   "id": "10aa78f7-cf1c-4a78-b8b2-228f0ec4eeab",
   "metadata": {},
   "outputs": [
    {
     "data": {
      "text/plain": [
       "'La Fundación Dignidad Trans, representada por la accionante, pidió protección para un grupo de mujeres transgénero cuyos derechos fundamentales fueron vulnerados por la publicación de un video en Facebook sin consentimiento, obteniendo tutela solo para la menor afectada.'"
      ]
     },
     "execution_count": 21,
     "metadata": {},
     "output_type": "execute_result"
    }
   ],
   "source": [
    "tres_demandas_con_LLMs['De_qué_trata_LLM'].iloc[0]"
   ]
  },
  {
   "cell_type": "code",
   "execution_count": null,
   "id": "7fcd14c4-d64e-4f24-8013-abe5ee4ba076",
   "metadata": {},
   "outputs": [],
   "source": []
  }
 ],
 "metadata": {
  "kernelspec": {
   "display_name": "Python 3 (ipykernel)",
   "language": "python",
   "name": "python3"
  },
  "language_info": {
   "codemirror_mode": {
    "name": "ipython",
    "version": 3
   },
   "file_extension": ".py",
   "mimetype": "text/x-python",
   "name": "python",
   "nbconvert_exporter": "python",
   "pygments_lexer": "ipython3",
   "version": "3.12.3"
  }
 },
 "nbformat": 4,
 "nbformat_minor": 5
}
